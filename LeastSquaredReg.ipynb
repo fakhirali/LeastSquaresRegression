{
 "cells": [
  {
   "cell_type": "markdown",
   "metadata": {
    "heading_collapsed": true
   },
   "source": [
    "# Imports"
   ]
  },
  {
   "cell_type": "code",
   "execution_count": 1,
   "metadata": {
    "hidden": true
   },
   "outputs": [],
   "source": [
    "from matplotlib import pyplot as plt\n",
    "import numpy as np"
   ]
  },
  {
   "cell_type": "markdown",
   "metadata": {
    "heading_collapsed": true
   },
   "source": [
    "# Data"
   ]
  },
  {
   "cell_type": "code",
   "execution_count": 2,
   "metadata": {
    "hidden": true
   },
   "outputs": [],
   "source": [
    "def input_data():\n",
    "    print('What is the x label')\n",
    "    xlabel = input()\n",
    "    print('What is the y label')\n",
    "    ylabel = input()\n",
    "    cont = True\n",
    "    x = np.array([])\n",
    "    y = np.array([])\n",
    "    print('Enter the x values first')\n",
    "    print('When done enter \"y\"')\n",
    "    while cont:\n",
    "        a = input()\n",
    "        if a == 'y':\n",
    "            cont = False\n",
    "        else :\n",
    "            x = np.append(x , float(a))\n",
    "    print('now enter the y values')\n",
    "    print('when done enter \"x\"')\n",
    "    cont = True\n",
    "    while cont:\n",
    "        a = input()\n",
    "        if a == 'x':\n",
    "            cont = False\n",
    "        else :\n",
    "            y = np.append(y , float(a))\n",
    "    return x , y , xlabel , ylabel"
   ]
  },
  {
   "cell_type": "markdown",
   "metadata": {},
   "source": [
    "# Input Data"
   ]
  },
  {
   "cell_type": "code",
   "execution_count": 3,
   "metadata": {},
   "outputs": [
    {
     "name": "stdout",
     "output_type": "stream",
     "text": [
      "What is the x label\n",
      "Time\n",
      "What is the y label\n",
      "Concentration\n",
      "Enter the x values first\n",
      "When done enter \"y\"\n",
      "0\n",
      "1\n",
      "2\n",
      "3\n",
      "4\n",
      "5\n",
      "6\n",
      "y\n",
      "now enter the y values\n",
      "when done enter \"x\"\n",
      "2.4\n",
      "4.3\n",
      "5\n",
      "6.9\n",
      "9.1\n",
      "11.4\n",
      "13.5\n",
      "x\n"
     ]
    }
   ],
   "source": [
    "x , y , xlabel , ylabel = input_data()"
   ]
  },
  {
   "cell_type": "markdown",
   "metadata": {
    "heading_collapsed": true
   },
   "source": [
    "# Proc"
   ]
  },
  {
   "cell_type": "code",
   "execution_count": 4,
   "metadata": {
    "hidden": true
   },
   "outputs": [],
   "source": [
    "def prod(x,y):\n",
    "    a = []\n",
    "    for i in range(len(x)):\n",
    "        a.append(x[i]*y[i])\n",
    "    return a\n",
    "\n",
    "def square(x):\n",
    "    a = []\n",
    "    for i in range(len(x)):\n",
    "        a.append(x[i]**2)\n",
    "    return a\n",
    "\n",
    "def mean(x):\n",
    "    return sum(x)/len(x)\n",
    "\n",
    "Sxy = sum(prod(x,y)) - ((sum(x) * sum(y))/len(x) )\n",
    "\n",
    "Sx2 = sum(square(x)) - (sum(x)**2 / len(x))\n",
    "\n",
    "m = Sxy/Sx2\n",
    "\n",
    "m\n",
    "\n",
    "c = (m*(-mean(x))) + mean(y)\n",
    "\n",
    "y_ = m*x + c"
   ]
  },
  {
   "cell_type": "markdown",
   "metadata": {},
   "source": [
    "# Graph and Equation"
   ]
  },
  {
   "cell_type": "code",
   "execution_count": 11,
   "metadata": {
    "scrolled": true
   },
   "outputs": [
    {
     "name": "stdout",
     "output_type": "stream",
     "text": [
      "y = 1.843x + 1.986\n"
     ]
    },
    {
     "data": {
      "image/png": "[encoded data removed]",
      "text/plain": [
       "<Figure size 432x288 with 1 Axes>"
      ]
     },
     "metadata": {},
     "output_type": "display_data"
    }
   ],
   "source": [
    "print('y = {}x + {}'.format(round(m,3),round(c,3)))\n",
    "plt.plot(x,y_,color = 'green')\n",
    "plt.scatter(x,y)\n",
    "plt.plot(mean(x),mean(y) , 'mD')\n",
    "plt.xlabel(xlabel)\n",
    "plt.ylabel(ylabel)\n",
    "plt.show()"
   ]
  },
  {
   "cell_type": "code",
   "execution_count": 6,
   "metadata": {},
   "outputs": [
    {
     "name": "stdout",
     "output_type": "stream",
     "text": [
      "press enter to continue\n"
     ]
    },
    {
     "data": {
      "text/plain": [
       "''"
      ]
     },
     "execution_count": 6,
     "metadata": {},
     "output_type": "execute_result"
    }
   ],
   "source": [
    "input('press enter to continue')"
   ]
  },
  {
   "cell_type": "markdown",
   "metadata": {
    "heading_collapsed": true
   },
   "source": [
    "# Est"
   ]
  },
  {
   "cell_type": "code",
   "execution_count": 7,
   "metadata": {
    "hidden": true
   },
   "outputs": [],
   "source": [
    "def predx():\n",
    "    print('what is the x value')\n",
    "    pred_x = float(input())\n",
    "    predd_y = pred_x * m + c\n",
    "    plt.plot(x,y_,color = 'green')\n",
    "    plt.scatter(x,y)\n",
    "    plt.plot(mean(x),mean(y) , 'mD')\n",
    "    plt.plot(pred_x , predd_y, 'rs')\n",
    "    plt.plot([pred_x , 0] , [predd_y , predd_y] , '--')\n",
    "    plt.annotate(str(predd_y) , (0,predd_y))\n",
    "    plt.xlabel(xlabel)\n",
    "    plt.ylabel(ylabel)\n",
    "    print(predd_y)\n"
   ]
  },
  {
   "cell_type": "code",
   "execution_count": 8,
   "metadata": {
    "hidden": true
   },
   "outputs": [],
   "source": [
    "def predy():\n",
    "    print('what is the y value')\n",
    "    pred_y = float(input())\n",
    "    predd_x = (pred_y - c) / m\n",
    "    plt.plot(x,y_,color = 'green')\n",
    "    plt.scatter(x,y)\n",
    "    plt.plot(mean(x),mean(y) , 'mD')\n",
    "    plt.plot(predd_x , pred_y, 'rs')\n",
    "    plt.plot([predd_x , predd_x] , [pred_y , 0] , '--')\n",
    "    plt.annotate(str(predd_x) , (predd_x,0))\n",
    "    plt.xlabel(xlabel)\n",
    "    plt.ylabel(ylabel)\n",
    "    print(predd_x)"
   ]
  },
  {
   "cell_type": "code",
   "execution_count": 9,
   "metadata": {
    "hidden": true
   },
   "outputs": [],
   "source": [
    "def est():\n",
    "    print('Do you what to predict using the x or y')\n",
    "    xoy = input()\n",
    "    if xoy == 'x':\n",
    "        predx()\n",
    "    elif xoy == 'y':\n",
    "        predy()"
   ]
  },
  {
   "cell_type": "markdown",
   "metadata": {},
   "source": [
    "# Estimate / Predict"
   ]
  },
  {
   "cell_type": "code",
   "execution_count": 10,
   "metadata": {
    "scrolled": true
   },
   "outputs": [
    {
     "name": "stdout",
     "output_type": "stream",
     "text": [
      "Do you what to predict using the x or y\n",
      "x\n",
      "what is the x value\n",
      "3.5\n",
      "8.435714285714285\n"
     ]
    },
    {
     "data": {
      "image/png": "[encoded data removed]",
      "text/plain": [
       "<Figure size 432x288 with 1 Axes>"
      ]
     },
     "metadata": {},
     "output_type": "display_data"
    }
   ],
   "source": [
    "est()"
   ]
  }
 ],
 "metadata": {
  "kernelspec": {
   "display_name": "Python 3",
   "language": "python",
   "name": "python3"
  },
  "language_info": {
   "codemirror_mode": {
    "name": "ipython",
    "version": 3
   },
   "file_extension": ".py",
   "mimetype": "text/x-python",
   "name": "python",
   "nbconvert_exporter": "python",
   "pygments_lexer": "ipython3",
   "version": "3.6.6"
  }
 },
 "nbformat": 4,
 "nbformat_minor": 2
}
